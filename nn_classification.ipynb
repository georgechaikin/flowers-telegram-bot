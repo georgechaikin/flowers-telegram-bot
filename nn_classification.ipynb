{
 "cells": [
  {
   "cell_type": "code",
   "execution_count": 74,
   "metadata": {
    "colab": {
     "base_uri": "https://localhost:8080/"
    },
    "id": "APUvIJ-8tQCX",
    "outputId": "6a6c2038-4fd5-4418-900d-a30ef218db5d"
   },
   "outputs": [],
   "source": [
    "# !pip install --upgrade tfds-nightly"
   ]
  },
  {
   "cell_type": "code",
   "execution_count": 3,
   "metadata": {
    "id": "tNIoYduOruG7"
   },
   "outputs": [],
   "source": [
    "import tensorflow as tf\n",
    "import tensorflow_datasets as tfds\n",
    "import matplotlib.pyplot as plt\n",
    "import numpy as np\n",
    "import os"
   ]
  },
  {
   "cell_type": "code",
   "execution_count": 76,
   "metadata": {},
   "outputs": [],
   "source": [
    "labels_list = [\n",
    "    'одуванчик',\n",
    "    'маргаритка'\n",
    "    'тюльпаны',\n",
    "    'подсолнухи',\n",
    "    'розы',\n",
    "    ]"
   ]
  },
  {
   "cell_type": "code",
   "execution_count": 55,
   "metadata": {
    "colab": {
     "base_uri": "https://localhost:8080/",
     "height": 398
    },
    "id": "1BY63wShq94t",
    "outputId": "fdca878d-11fe-4047-e9da-d3fae486b842"
   },
   "outputs": [],
   "source": [
    "test_set, train_set = tfds.load(\n",
    "                                'tf_flowers',\n",
    "                                split = [\"train[0%:20%]\", \"train[20%:]\"], \n",
    "                                as_supervised = True,\n",
    "                                batch_size = 32,\n",
    "                                # with_info = True\n",
    "                                )\n",
    "classes_number = 5"
   ]
  },
  {
   "cell_type": "code",
   "execution_count": 58,
   "metadata": {
    "id": "lqhjfo3j-l-T"
   },
   "outputs": [],
   "source": [
    "from tensorflow.keras.layers import RandomRotation, RandomFlip,\\\n",
    "Resizing, Rescaling, RandomContrast, RandomZoom, RandomCrop\n",
    "\n",
    "IMG_SIZE = 224\n",
    "\n",
    "resize_and_rescale = tf.keras.Sequential([\n",
    "  Resizing(IMG_SIZE, IMG_SIZE),\n",
    "  Rescaling(1./255)\n",
    "])\n",
    "\n",
    "data_augmentation = tf.keras.Sequential([                   \n",
    "  RandomFlip(\"horizontal_and_vertical\"),\n",
    "  # RandomCrop(IMG_SIZE//2, IMG_SIZE//2),\n",
    "  RandomRotation(0.2),\n",
    "  RandomContrast(0.2),\n",
    "  # RandomZoom(0.5)\n",
    "])\n",
    "\n",
    "augmentation=tf.keras.Sequential([\n",
    "  resize_and_rescale,\n",
    "  data_augmentation\n",
    "])\n",
    "\n"
   ]
  },
  {
   "cell_type": "code",
   "execution_count": 60,
   "metadata": {
    "colab": {
     "base_uri": "https://localhost:8080/"
    },
    "id": "bJ3zfNf1_jTn",
    "outputId": "9bd3b481-76a2-4e27-fba1-1cbc40f4d101"
   },
   "outputs": [
    {
     "name": "stdout",
     "output_type": "stream",
     "text": [
      "WARNING:tensorflow:Model was constructed with shape (375, 500, 3) for input KerasTensor(type_spec=TensorSpec(shape=(375, 500, 3), dtype=tf.uint8, name='sequential_12_input'), name='sequential_12_input', description=\"created by layer 'sequential_12_input'\"), but it was called on an input with incompatible shape (None, None, None, 3).\n"
     ]
    },
    {
     "name": "stderr",
     "output_type": "stream",
     "text": [
      "WARNING:tensorflow:Model was constructed with shape (375, 500, 3) for input KerasTensor(type_spec=TensorSpec(shape=(375, 500, 3), dtype=tf.uint8, name='sequential_12_input'), name='sequential_12_input', description=\"created by layer 'sequential_12_input'\"), but it was called on an input with incompatible shape (None, None, None, 3).\n"
     ]
    },
    {
     "name": "stdout",
     "output_type": "stream",
     "text": [
      "WARNING:tensorflow:Model was constructed with shape (375, 500, 3) for input KerasTensor(type_spec=TensorSpec(shape=(375, 500, 3), dtype=tf.uint8, name='resizing_4_input'), name='resizing_4_input', description=\"created by layer 'resizing_4_input'\"), but it was called on an input with incompatible shape (None, None, None, 3).\n"
     ]
    },
    {
     "name": "stderr",
     "output_type": "stream",
     "text": [
      "WARNING:tensorflow:Model was constructed with shape (375, 500, 3) for input KerasTensor(type_spec=TensorSpec(shape=(375, 500, 3), dtype=tf.uint8, name='resizing_4_input'), name='resizing_4_input', description=\"created by layer 'resizing_4_input'\"), but it was called on an input with incompatible shape (None, None, None, 3).\n"
     ]
    },
    {
     "name": "stdout",
     "output_type": "stream",
     "text": [
      "WARNING:tensorflow:Model was constructed with shape (224, 224, 3) for input KerasTensor(type_spec=TensorSpec(shape=(224, 224, 3), dtype=tf.float32, name='random_flip_4_input'), name='random_flip_4_input', description=\"created by layer 'random_flip_4_input'\"), but it was called on an input with incompatible shape (None, 224, 224, 3).\n"
     ]
    },
    {
     "name": "stderr",
     "output_type": "stream",
     "text": [
      "WARNING:tensorflow:Model was constructed with shape (224, 224, 3) for input KerasTensor(type_spec=TensorSpec(shape=(224, 224, 3), dtype=tf.float32, name='random_flip_4_input'), name='random_flip_4_input', description=\"created by layer 'random_flip_4_input'\"), but it was called on an input with incompatible shape (None, 224, 224, 3).\n"
     ]
    },
    {
     "name": "stdout",
     "output_type": "stream",
     "text": [
      "WARNING:tensorflow:Model was constructed with shape (375, 500, 3) for input KerasTensor(type_spec=TensorSpec(shape=(375, 500, 3), dtype=tf.uint8, name='resizing_4_input'), name='resizing_4_input', description=\"created by layer 'resizing_4_input'\"), but it was called on an input with incompatible shape (None, None, None, 3).\n"
     ]
    },
    {
     "name": "stderr",
     "output_type": "stream",
     "text": [
      "WARNING:tensorflow:Model was constructed with shape (375, 500, 3) for input KerasTensor(type_spec=TensorSpec(shape=(375, 500, 3), dtype=tf.uint8, name='resizing_4_input'), name='resizing_4_input', description=\"created by layer 'resizing_4_input'\"), but it was called on an input with incompatible shape (None, None, None, 3).\n"
     ]
    }
   ],
   "source": [
    "train_set = train_set.map(lambda x, y: (augmentation(x, training=True), \n",
    "                                        tf.one_hot(y, classes_number)))\n",
    "valid_set = valid_set.map(lambda x, y: (resize_and_rescale(x), tf.one_hot(y, classes_number)))"
   ]
  },
  {
   "cell_type": "code",
   "execution_count": 64,
   "metadata": {
    "colab": {
     "base_uri": "https://localhost:8080/"
    },
    "id": "i_P1RDAXAabN",
    "outputId": "65f702fe-9cf3-41fd-caab-f8fbd52cb0d1"
   },
   "outputs": [
    {
     "name": "stdout",
     "output_type": "stream",
     "text": [
      "Downloading data from https://storage.googleapis.com/tensorflow/keras-applications/mobilenet/mobilenet_1_0_224_tf_no_top.h5\n",
      "17227776/17225924 [==============================] - 6s 0us/step\n",
      "17235968/17225924 [==============================] - 6s 0us/step\n",
      "Model: \"model\"\n",
      "_________________________________________________________________\n",
      " Layer (type)                Output Shape              Param #   \n",
      "=================================================================\n",
      " input_1 (InputLayer)        [(None, 224, 224, 3)]     0         \n",
      "                                                                 \n",
      " mobilenet_1.00_224 (Functio  (None, 7, 7, 1024)       3228864   \n",
      " nal)                                                            \n",
      "                                                                 \n",
      " max_pooling2d (MaxPooling2D  (None, 3, 3, 1024)       0         \n",
      " )                                                               \n",
      "                                                                 \n",
      " global_average_pooling2d (G  (None, 1024)             0         \n",
      " lobalAveragePooling2D)                                          \n",
      "                                                                 \n",
      " dense (Dense)               (None, 5)                 5125      \n",
      "                                                                 \n",
      "=================================================================\n",
      "Total params: 3,233,989\n",
      "Trainable params: 5,125\n",
      "Non-trainable params: 3,228,864\n",
      "_________________________________________________________________\n"
     ]
    }
   ],
   "source": [
    "from tensorflow.keras.applications.mobilenet import MobileNet\n",
    "from tensorflow.keras.layers import Dense, GlobalAveragePooling2D, Input, MaxPooling2D\n",
    "\n",
    "\n",
    "inputs = Input((IMG_SIZE, IMG_SIZE,3))\n",
    "\n",
    "model = MobileNet(input_shape=(IMG_SIZE, IMG_SIZE, 3), include_top = False,\n",
    "                  weights = 'imagenet')\n",
    "\n",
    "\n",
    "model.trainable = False\n",
    "x=model(inputs)\n",
    "x = MaxPooling2D()(x)\n",
    "global_average_layer = GlobalAveragePooling2D()\n",
    "x = global_average_layer(x)\n",
    "outputs = Dense(classes_number, activation = 'softmax')(x)\n",
    "\n",
    "model = tf.keras.models.Model(inputs, outputs)\n",
    "\n",
    "model.summary()"
   ]
  },
  {
   "cell_type": "code",
   "execution_count": 65,
   "metadata": {
    "id": "46hy01wJCc5W"
   },
   "outputs": [],
   "source": [
    "model.compile(optimizer='adam',\n",
    "              loss='categorical_crossentropy',\n",
    "              metrics=['acc'])"
   ]
  },
  {
   "cell_type": "code",
   "execution_count": 66,
   "metadata": {
    "id": "sfP33Ij5N33w"
   },
   "outputs": [],
   "source": [
    "modelname = 'model'\n",
    "models_dir = 'models'\n",
    "os.makedirs(models_dir, exist_ok = True)\n",
    "best_checkpoint = tf.keras.callbacks.ModelCheckpoint(filepath = os.path.join('models', f'{modelname}_best.hdf5'),\n",
    "                                   monitor = 'val_loss',\n",
    "                                   save_best_only = True,\n",
    "                                   mode = 'min')\n",
    "last_checkpoint = tf.keras.callbacks.ModelCheckpoint(filepath = os.path.join('models', f'{modelname}_last.hdf5'),\n",
    "                                   monitor = 'val_loss',\n",
    "                                   save_best_only = False,\n",
    "                                   mode = 'auto')\n",
    "early_stopping = tf.keras.callbacks.EarlyStopping(monitor='val_loss', patience=5)\n",
    "callbacks = [best_checkpoint, last_checkpoint, early_stopping]"
   ]
  },
  {
   "cell_type": "code",
   "execution_count": 67,
   "metadata": {
    "colab": {
     "base_uri": "https://localhost:8080/"
    },
    "id": "7mFrRCJXGN0m",
    "outputId": "71f2a039-e769-4625-9e33-a63ec4f536be"
   },
   "outputs": [
    {
     "name": "stdout",
     "output_type": "stream",
     "text": [
      "Epoch 1/30\n",
      "92/92 [==============================] - 56s 518ms/step - loss: 1.2901 - acc: 0.5501 - val_loss: 0.7567 - val_acc: 0.7425\n",
      "Epoch 2/30\n",
      "92/92 [==============================] - 45s 487ms/step - loss: 0.7166 - acc: 0.7316 - val_loss: 0.6547 - val_acc: 0.7820\n",
      "Epoch 3/30\n",
      "92/92 [==============================] - 44s 480ms/step - loss: 0.6013 - acc: 0.7888 - val_loss: 0.6519 - val_acc: 0.7888\n",
      "Epoch 4/30\n",
      "92/92 [==============================] - 44s 480ms/step - loss: 0.5471 - acc: 0.8035 - val_loss: 0.5758 - val_acc: 0.8215\n",
      "Epoch 5/30\n",
      "92/92 [==============================] - 46s 506ms/step - loss: 0.5126 - acc: 0.8161 - val_loss: 0.5578 - val_acc: 0.8243\n",
      "Epoch 6/30\n",
      "92/92 [==============================] - 45s 489ms/step - loss: 0.4747 - acc: 0.8297 - val_loss: 0.5619 - val_acc: 0.8324\n",
      "Epoch 7/30\n",
      "92/92 [==============================] - 42s 463ms/step - loss: 0.4744 - acc: 0.8277 - val_loss: 0.5624 - val_acc: 0.8338\n",
      "Epoch 8/30\n",
      "92/92 [==============================] - 44s 475ms/step - loss: 0.4386 - acc: 0.8433 - val_loss: 0.5607 - val_acc: 0.8338\n",
      "Epoch 9/30\n",
      "92/92 [==============================] - 43s 473ms/step - loss: 0.4133 - acc: 0.8481 - val_loss: 0.5535 - val_acc: 0.8392\n",
      "Epoch 10/30\n",
      "92/92 [==============================] - 44s 477ms/step - loss: 0.4056 - acc: 0.8478 - val_loss: 0.5444 - val_acc: 0.8392\n",
      "Epoch 11/30\n",
      "92/92 [==============================] - 44s 477ms/step - loss: 0.4321 - acc: 0.8399 - val_loss: 0.5339 - val_acc: 0.8392\n",
      "Epoch 12/30\n",
      "92/92 [==============================] - 45s 485ms/step - loss: 0.4122 - acc: 0.8488 - val_loss: 0.5594 - val_acc: 0.8351\n",
      "Epoch 13/30\n",
      "92/92 [==============================] - 43s 462ms/step - loss: 0.3759 - acc: 0.8590 - val_loss: 0.6032 - val_acc: 0.8229\n",
      "Epoch 14/30\n",
      "92/92 [==============================] - 46s 500ms/step - loss: 0.3919 - acc: 0.8573 - val_loss: 0.5742 - val_acc: 0.8324\n",
      "Epoch 15/30\n",
      "92/92 [==============================] - 56s 616ms/step - loss: 0.3674 - acc: 0.8689 - val_loss: 0.5319 - val_acc: 0.8420\n",
      "Epoch 16/30\n",
      "92/92 [==============================] - 53s 578ms/step - loss: 0.3747 - acc: 0.8627 - val_loss: 0.5503 - val_acc: 0.8311\n",
      "Epoch 17/30\n",
      "92/92 [==============================] - 43s 468ms/step - loss: 0.3814 - acc: 0.8559 - val_loss: 0.5180 - val_acc: 0.8610\n",
      "Epoch 18/30\n",
      "92/92 [==============================] - 45s 487ms/step - loss: 0.3410 - acc: 0.8764 - val_loss: 0.5450 - val_acc: 0.8447\n",
      "Epoch 19/30\n",
      "92/92 [==============================] - 54s 589ms/step - loss: 0.3556 - acc: 0.8672 - val_loss: 0.5655 - val_acc: 0.8351\n",
      "Epoch 20/30\n",
      "92/92 [==============================] - 46s 477ms/step - loss: 0.3388 - acc: 0.8781 - val_loss: 0.5314 - val_acc: 0.8501\n",
      "Epoch 21/30\n",
      "92/92 [==============================] - 47s 510ms/step - loss: 0.3448 - acc: 0.8706 - val_loss: 0.5318 - val_acc: 0.8529\n",
      "Epoch 22/30\n",
      "92/92 [==============================] - 45s 490ms/step - loss: 0.3423 - acc: 0.8716 - val_loss: 0.5287 - val_acc: 0.8515\n"
     ]
    }
   ],
   "source": [
    "epochs=30\n",
    "\n",
    "history = model.fit(train_set,\n",
    "                    epochs=epochs,\n",
    "                    validation_data=valid_set,\n",
    "                    callbacks = callbacks,\n",
    "                    )"
   ]
  }
 ],
 "metadata": {
  "accelerator": "GPU",
  "colab": {
   "collapsed_sections": [],
   "name": "nn-classification.ipynb",
   "provenance": []
  },
  "kernelspec": {
   "display_name": "Python 3 (ipykernel)",
   "language": "python",
   "name": "python3"
  },
  "language_info": {
   "codemirror_mode": {
    "name": "ipython",
    "version": 3
   },
   "file_extension": ".py",
   "mimetype": "text/x-python",
   "name": "python",
   "nbconvert_exporter": "python",
   "pygments_lexer": "ipython3",
   "version": "3.7.7"
  }
 },
 "nbformat": 4,
 "nbformat_minor": 4
}
